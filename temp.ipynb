{
 "cells": [
  {
   "cell_type": "code",
   "execution_count": 5,
   "metadata": {},
   "outputs": [
    {
     "name": "stdout",
     "output_type": "stream",
     "text": [
      "Pass with grade A!\n"
     ]
    }
   ],
   "source": [
    "x = 18\n",
    "if x >= 10 and x <= 20:\n",
    "    print('Pass', end = ' ')\n",
    "    if x >= 18:\n",
    "        print('with grade A!')\n",
    "    elif x >= 15:\n",
    "        print('with grade B!')\n",
    "    elif x >= 12:\n",
    "        print('with grade C!')\n",
    "    else:\n",
    "        print('with grade D!')\n",
    "elif x < 10 and x >= 0:\n",
    "    print('Fail!')\n",
    "else:\n",
    "    print('Wrong input!')"
   ]
  },
  {
   "cell_type": "code",
   "execution_count": 6,
   "metadata": {},
   "outputs": [
    {
     "name": "stdout",
     "output_type": "stream",
     "text": [
      "Pass with grade A!\n"
     ]
    }
   ],
   "source": [
    "x = 18\n",
    "if x >= 10 and x <= 20:\n",
    "    print('Pass', end = ' ')\n",
    "    print('with grade A!') if x >= 18 else print('with grade B!') if x >= 15 else print('with grade C!') if x >= 12 else print('with grade D!') \n",
    "elif x < 10 and x >= 0:\n",
    "    print('Fail!')\n",
    "else:\n",
    "    print('Wrong input!')"
   ]
  }
 ],
 "metadata": {
  "kernelspec": {
   "display_name": "Python 3",
   "language": "python",
   "name": "python3"
  },
  "language_info": {
   "codemirror_mode": {
    "name": "ipython",
    "version": 3
   },
   "file_extension": ".py",
   "mimetype": "text/x-python",
   "name": "python",
   "nbconvert_exporter": "python",
   "pygments_lexer": "ipython3",
   "version": "3.10.7"
  },
  "orig_nbformat": 4
 },
 "nbformat": 4,
 "nbformat_minor": 2
}
